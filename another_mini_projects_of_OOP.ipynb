{
  "nbformat": 4,
  "nbformat_minor": 0,
  "metadata": {
    "colab": {
      "provenance": []
    },
    "kernelspec": {
      "name": "python3",
      "display_name": "Python 3"
    },
    "language_info": {
      "name": "python"
    }
  },
  "cells": [
    {
      "cell_type": "markdown",
      "source": [
        "Task 1"
      ],
      "metadata": {
        "id": "wxMmgM-6pMlW"
      }
    },
    {
      "cell_type": "code",
      "execution_count": null,
      "metadata": {
        "id": "xWr6O93soo-V",
        "colab": {
          "base_uri": "https://localhost:8080/"
        },
        "outputId": "453594bb-810a-4d03-fb42-a86d5b0174d9"
      },
      "outputs": [
        {
          "output_type": "stream",
          "name": "stdout",
          "text": [
            "----Printing Detail----\n",
            "Do not eat the Mango .\n",
            "Mango are bad for you\n",
            "----Printing Detail----\n",
            "Eat the Jackfruit .\n",
            "Jackfruit are good for you\n"
          ]
        }
      ],
      "source": [
        "class Fruit:\n",
        "    def __init__(self, formalin=False, name=''):\n",
        "        self.__formalin = formalin\n",
        "        self.name = name\n",
        "\n",
        "    def getName(self):\n",
        "        return self.name\n",
        "\n",
        "    def hasFormalin(self):\n",
        "        return self.__formalin\n",
        "\n",
        "class testFruit:\n",
        "    def test(self, f):\n",
        "        print('----Printing Detail----')\n",
        "        if f.hasFormalin():\n",
        "            print('Do not eat the',f.getName(),'.')\n",
        "            print(f'{f.getName()} are bad for you')\n",
        "        else:\n",
        "            print('Eat the',f.getName(),'.')\n",
        "            print(f'{f.getName()} are good for you')\n",
        "\n",
        "class Mango(Fruit):\n",
        "  def __init__(self, formalin=True, name='Mango'):\n",
        "    super().__init__(formalin,name)\n",
        "\n",
        "class Jackfruit(Fruit):\n",
        "  def __init__(self, formalin=False, name='Jackfruit'):\n",
        "    super().__init__(formalin,name)\n",
        "\n",
        "\n",
        "\n",
        "m = Mango()\n",
        "j = Jackfruit()\n",
        "t1 = testFruit()\n",
        "t1.test(m)\n",
        "t1.test(j)\n",
        "\n"
      ]
    },
    {
      "cell_type": "markdown",
      "source": [
        "Task 2"
      ],
      "metadata": {
        "id": "2DL6P2n7nNKX"
      }
    },
    {
      "cell_type": "code",
      "source": [
        "class Exam:\n",
        "    def __init__(self,marks):\n",
        "        self.marks = marks\n",
        "        self.time = 60\n",
        "\n",
        "    def examSyllabus(self):\n",
        "        return \"Maths , English\"\n",
        "\n",
        "    def examParts(self):\n",
        "        return \"Part 1 - Maths\\nPart 2 - English\\n\"\n",
        "\n",
        "class ScienceExam(Exam):\n",
        "  def __init__(self,marks,time,*syllabus):\n",
        "    super().__init__(marks)\n",
        "    self.time=time\n",
        "    self.syllabus_list=[]\n",
        "    self.syllabus=syllabus\n",
        "    for i in self.syllabus:\n",
        "      self.syllabus_list.append(i)\n",
        "\n",
        "  def examSyllabus(self):\n",
        "    exam=f'{super().examSyllabus()}'\n",
        "    for i in range(len(self.syllabus_list)):\n",
        "      if i != len(self.syllabus_list)-1:\n",
        "        exam+=f'  {self.syllabus_list[i]},'\n",
        "      else:\n",
        "        exam+=f'  {self.syllabus_list[i]}'\n",
        "    return exam\n",
        "\n",
        "  def examParts(self):\n",
        "    count=2\n",
        "    part=f'Part 1 - Maths\\nPart 2 - English\\n'\n",
        "    for i in self.syllabus_list:\n",
        "      count+=1\n",
        "      part+=f'Part {count} - {i}\\n'\n",
        "    return part\n",
        "\n",
        "  def __str__(self):\n",
        "    return f'Marks: {self.marks} Time: {self.time} minutes Number of Parts: {len(self.syllabus_list)+2}'\n",
        "\n",
        "\n",
        "\n",
        "engineering = ScienceExam(100,90,\"Physics\",\"HigherMaths\")\n",
        "print(engineering)\n",
        "print('----------------------------------')\n",
        "print(engineering.examSyllabus())\n",
        "print(engineering.examParts())\n",
        "print('==================================')\n",
        "architecture = ScienceExam(100,120,\"Physics\",\"HigherMaths\",\"Drawing\")\n",
        "print(architecture)\n",
        "print('----------------------------------')\n",
        "print(architecture.examSyllabus())\n",
        "print(architecture.examParts())\n",
        "\n"
      ],
      "metadata": {
        "colab": {
          "base_uri": "https://localhost:8080/"
        },
        "id": "SRsr_GItnO5_",
        "outputId": "0f1abd32-7957-45d3-85ec-48ba08fe3f96"
      },
      "execution_count": null,
      "outputs": [
        {
          "output_type": "stream",
          "name": "stdout",
          "text": [
            "Marks: 100 Time: 90 minutes Number of Parts: 4\n",
            "----------------------------------\n",
            "Maths , English  Physics,  HigherMaths\n",
            "Part 1 - Maths\n",
            "Part 2 - English\n",
            "Part 3 - Physics\n",
            "Part 4 - HigherMaths\n",
            "\n",
            "==================================\n",
            "Marks: 100 Time: 120 minutes Number of Parts: 5\n",
            "----------------------------------\n",
            "Maths , English  Physics,  HigherMaths,  Drawing\n",
            "Part 1 - Maths\n",
            "Part 2 - English\n",
            "Part 3 - Physics\n",
            "Part 4 - HigherMaths\n",
            "Part 5 - Drawing\n",
            "\n"
          ]
        }
      ]
    },
    {
      "cell_type": "markdown",
      "source": [
        "Task 3"
      ],
      "metadata": {
        "id": "Od3foKvHwSgs"
      }
    },
    {
      "cell_type": "code",
      "source": [
        "class PokemonBasic:\n",
        "\n",
        "  def __init__(self, name = 'Default', hp = 0, weakness = 'None', type = 'Unknown'):\n",
        "    self.name = name\n",
        "    self.hit_point = hp\n",
        "    self.weakness = weakness\n",
        "    self.type = type\n",
        "\n",
        "  def get_type(self):\n",
        "    return 'Main type: ' + self.type\n",
        "\n",
        "  def get_move(self):\n",
        "    return 'Basic move: ' + 'Quick Attack'\n",
        "\n",
        "  def __str__(self):\n",
        "    return \"Name: \" + self.name + \", HP: \" + str(self.hit_point) + \", Weakness: \" + self.weakness\n",
        "\n",
        "\n",
        "class PokemonExtra(PokemonBasic):\n",
        "  def __init__(self,name,hp,weakness,type,secondary_type=None,move=None):\n",
        "    super().__init__(name,hp,weakness,type)\n",
        "    self.move=move\n",
        "    self.secondary_type=secondary_type\n",
        "  def get_type(self):\n",
        "        if self.secondary_type != None:\n",
        "            return super().get_type() + ', Secondary type: ' + self.secondary_type\n",
        "        else:\n",
        "            return super().get_type()\n",
        "\n",
        "  def get_move(self):\n",
        "        all_move = super().get_move()\n",
        "        if self.move != None:\n",
        "            other_moves = ', '.join(self.move)\n",
        "            return all_move + '\\nOther move: ' + other_moves\n",
        "        else:\n",
        "          return all_move\n",
        "\n",
        "\n",
        "\n",
        "\n",
        "print('\\n------------Basic Info:--------------')\n",
        "pk = PokemonBasic()\n",
        "print(pk)\n",
        "print(pk.get_type())\n",
        "print(pk.get_move())\n",
        "\n",
        "print('\\n------------Pokemon 1 Info:-------------')\n",
        "charmander = PokemonExtra('Charmander', 39, 'Water', 'Fire')\n",
        "print(charmander)\n",
        "print(charmander.get_type())\n",
        "print(charmander.get_move())\n",
        "\n",
        "print('\\n------------Pokemon 2 Info:-------------')\n",
        "charizard = PokemonExtra('Charizard', 78, 'Water', 'Fire', 'Flying', ('Fire Spin', 'Fire Blaze'))\n",
        "print(charizard)\n",
        "print(charizard.get_type())\n",
        "print(charizard.get_move())\n",
        "\n",
        "\n",
        "\n"
      ],
      "metadata": {
        "colab": {
          "base_uri": "https://localhost:8080/"
        },
        "id": "oDf9yYqPwPHe",
        "outputId": "83d9c73a-700c-4c2e-8ec5-8d01e1a843f0"
      },
      "execution_count": null,
      "outputs": [
        {
          "output_type": "stream",
          "name": "stdout",
          "text": [
            "\n",
            "------------Basic Info:--------------\n",
            "Name: Default, HP: 0, Weakness: None\n",
            "Main type: Unknown\n",
            "Basic move: Quick Attack\n",
            "\n",
            "------------Pokemon 1 Info:-------------\n",
            "Name: Charmander, HP: 39, Weakness: Water\n",
            "Main type: Fire\n",
            "Basic move: Quick Attack\n",
            "\n",
            "------------Pokemon 2 Info:-------------\n",
            "Name: Charizard, HP: 78, Weakness: Water\n",
            "Main type: Fire, Secondary type: Flying\n",
            "Basic move: Quick Attack\n",
            "Other move: Fire Spin, Fire Blaze\n"
          ]
        }
      ]
    },
    {
      "cell_type": "markdown",
      "source": [
        "Task 4"
      ],
      "metadata": {
        "id": "0HBoRct481rp"
      }
    },
    {
      "cell_type": "code",
      "source": [
        "class Cakes:\n",
        "  order_list={}\n",
        "  feedback={}\n",
        "  def __init__(self,flavor,weight):\n",
        "    self.flavor=flavor\n",
        "    self.weight=weight\n",
        "    self.sweetness= \"Moderate sugar\"\n",
        "    self.cream_type=\"Whipped Cream\"\n",
        "    self.regular_cake_price=1200\n",
        "    self.price=self.regular_cake_price*(self.weight/1000)\n",
        "    self.order_list[f\"{self.flavor} Cake {self.weight}gm\"] = 1\n",
        "\n",
        "  def add_customization(self, sweetness, cream_type):\n",
        "    self.sweetness = sweetness\n",
        "    self.cream_type = cream_type\n",
        "\n",
        "  def cake_details(self):\n",
        "    print(f\"Flavor: {self.flavor}, Weight: {self.weight} gm\")\n",
        "    print(f\"Sweetness: {self.sweetness}, Cream Type: {self.cream_type}\\nPrice: {self.price} Taka\")\n",
        "\n",
        "  @classmethod\n",
        "  def give_feedbacks(cls,flavor,feedback):\n",
        "    if flavor in cls.feedback:\n",
        "      cls.feedback[flavor].append(feedback)\n",
        "    else:\n",
        "      cls.feedback[flavor] = [feedback]\n",
        "    print(\"Thanks for your valuable feedback!\\nYou will get 10% discount for your next purchase!\")\n",
        "\n",
        "  @classmethod\n",
        "  def show_feedbacks(cls):\n",
        "    print(cls.feedback)\n",
        "\n",
        "\n",
        "class  Cheese_Cakes(Cakes):\n",
        "\n",
        "  def __init__(self,flavor,weight,cake_type='baked'):\n",
        "    super().__init__(flavor,weight)\n",
        "    self.cake_type=cake_type\n",
        "    self.cheese_cake_price=1500\n",
        "    self.price=self.cheese_cake_price*(self.weight/1000)\n",
        "\n",
        "\n",
        "  def cake_details(self):\n",
        "    print(f\"Flavor: {self.flavor}, Weight: {self.weight} gm\")\n",
        "    print(f\"Sweetness: {self.sweetness}, Cream Type: {self.cream_type}\")\n",
        "    print(f\"Cake Type:{self.cake_type},Price: {self.price}\")\n",
        "\n",
        "  def add_customization(self):\n",
        "    print(\"Sorry! No customization available for cheese cakes.\")\n",
        "\n",
        "\n",
        "\n",
        "\n",
        "order_1=Cakes(\"Chocolate\",500)\n",
        "order_2=Cakes(\"Vanilla\",800)\n",
        "print(\"(1)**********************************\")\n",
        "order_1.cake_details()\n",
        "print(\"(1.1)**********************************\")\n",
        "print(Cakes.order_list)\n",
        "print(\"(2)**********************************\")\n",
        "order_2.add_customization(\"Zero\",\"Butter Cream\")\n",
        "order_2.cake_details()\n",
        "print(\"(3)**********************************\")\n",
        "Cakes.give_feedbacks(\"Chocolate Cake\",\"Very Delicious\")\n",
        "Cakes.give_feedbacks(\"Chocolate Cake\",\"Yummy\")\n",
        "print(\"(4)**********************************\")\n",
        "Cakes.show_feedbacks()\n",
        "print(\"(5)**********************************\")\n",
        "ch_order1=Cheese_Cakes(\"Red velvet\",700)\n",
        "ch_order1.cake_details()\n",
        "print(\"(6)**********************************\")\n",
        "ch_order1.add_customization()\n",
        "print(\"(7)**********************************\")\n",
        "ch_order2=Cheese_Cakes(\"Blue Berry\",900,\"No Bake\")\n",
        "ch_order2.cake_details()\n",
        "print(\"(8)**********************************\")\n",
        "print(Cakes.order_list)\n",
        "print(\"(9)**********************************\")\n",
        "Cheese_Cakes.give_feedbacks(\"Red velvet Cheese Cake\",\"Average\")\n",
        "Cheese_Cakes.give_feedbacks(\"Blue Berry Cheese Cake\",\"Liked it\")\n",
        "print(\"(10)**********************************\")\n",
        "Cakes.show_feedbacks()\n",
        "\n",
        "\n"
      ],
      "metadata": {
        "colab": {
          "base_uri": "https://localhost:8080/"
        },
        "id": "H2nxYAhb7RmO",
        "outputId": "dea31862-9c63-471e-d4d4-b1f56d2bab3c"
      },
      "execution_count": null,
      "outputs": [
        {
          "output_type": "stream",
          "name": "stdout",
          "text": [
            "(1)**********************************\n",
            "Flavor: Chocolate, Weight: 500 gm\n",
            "Sweetness: Moderate sugar, Cream Type: Whipped Cream\n",
            "Price: 600.0 Taka\n",
            "(1.1)**********************************\n",
            "{'Chocolate Cake 500gm': 1, 'Vanilla Cake 800gm': 1}\n",
            "(2)**********************************\n",
            "Flavor: Vanilla, Weight: 800 gm\n",
            "Sweetness: Zero, Cream Type: Butter Cream\n",
            "Price: 960.0 Taka\n",
            "(3)**********************************\n",
            "Thanks for your valuable feedback!\n",
            "You will get 10% discount for your next purchase!\n",
            "Thanks for your valuable feedback!\n",
            "You will get 10% discount for your next purchase!\n",
            "(4)**********************************\n",
            "{'Chocolate Cake': ['Very Delicious', 'Yummy']}\n",
            "(5)**********************************\n",
            "Flavor: Red velvet, Weight: 700 gm\n",
            "Sweetness: Moderate sugar, Cream Type: Whipped Cream\n",
            "Cake Type:baked,Price: 1050.0\n",
            "(6)**********************************\n",
            "Sorry! No customization available for cheese cakes.\n",
            "(7)**********************************\n",
            "Flavor: Blue Berry, Weight: 900 gm\n",
            "Sweetness: Moderate sugar, Cream Type: Whipped Cream\n",
            "Cake Type:No Bake,Price: 1350.0\n",
            "(8)**********************************\n",
            "{'Chocolate Cake 500gm': 1, 'Vanilla Cake 800gm': 1, 'Red velvet Cake 700gm': 1, 'Blue Berry Cake 900gm': 1}\n",
            "(9)**********************************\n",
            "Thanks for your valuable feedback!\n",
            "You will get 10% discount for your next purchase!\n",
            "Thanks for your valuable feedback!\n",
            "You will get 10% discount for your next purchase!\n",
            "(10)**********************************\n",
            "{'Chocolate Cake': ['Very Delicious', 'Yummy'], 'Red velvet Cheese Cake': ['Average'], 'Blue Berry Cheese Cake': ['Liked it']}\n"
          ]
        }
      ]
    }
  ]
}